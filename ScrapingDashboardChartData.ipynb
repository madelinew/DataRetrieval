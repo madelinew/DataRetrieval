{
 "cells": [
  {
   "cell_type": "markdown",
   "metadata": {},
   "source": [
    "# Pulling .json Files from Tempe Opioid Wastewater Collection \n",
    "https://www.arcgis.com/home/item.html?id=93ee24cbf945405c8469742555670fc5#data\n",
    "The data that is collected and stored via this code is pulled from the query requests for the data within the charts on the dashboard.\n",
    "\n",
    "Maddie Warndorf"
   ]
  },
  {
   "cell_type": "code",
   "execution_count": 78,
   "metadata": {},
   "outputs": [],
   "source": [
    "#packages needed\n",
    "import requests\n",
    "import pandas as pd\n",
    "import feedparser\n",
    "from bs4 import BeautifulSoup\n",
    "import urllib.request\n",
    "import urllib3\n",
    "import json\n",
    "from pandas.io.json import json_normalize"
   ]
  },
  {
   "cell_type": "markdown",
   "metadata": {},
   "source": [
    "**Area TP04**"
   ]
  },
  {
   "cell_type": "code",
   "execution_count": 79,
   "metadata": {},
   "outputs": [
    {
     "name": "stdout",
     "output_type": "stream",
     "text": [
      "<Response [200]>\n"
     ]
    },
    {
     "data": {
      "text/plain": [
       "dict_keys(['objectIdFieldName', 'uniqueIdField', 'globalIdFieldName', 'fields', 'features'])"
      ]
     },
     "execution_count": 79,
     "metadata": {},
     "output_type": "execute_result"
    }
   ],
   "source": [
    "url = 'https://services.arcgis.com/lQySeXwbBg53XWDi/arcgis/rest/services/Wastewater_Study_Areas/FeatureServer/1/query?f=json&outFields=*&returnGeometry=false&where=Site%3D%27TP04%27'\n",
    "resp = requests.get(url)\n",
    "print(resp)\n",
    "\n",
    "data_raw = resp.json()\n",
    "data_raw.keys()"
   ]
  },
  {
   "cell_type": "code",
   "execution_count": 80,
   "metadata": {},
   "outputs": [],
   "source": [
    "data_raw['features']\n",
    "tp04_data = pd.io.json.json_normalize(data_raw['features'])\n",
    "#tp04_data"
   ]
  },
  {
   "cell_type": "code",
   "execution_count": 81,
   "metadata": {},
   "outputs": [],
   "source": [
    "tp04_data.columns = [\"Chemical\",\"Concentration_ng_L_Error\",\"Concentration_ng_L_Value\",\"Day\",\"Mass_Load_g_d_Error\",\"Mass_Load_g_d_Value\",\"Month\",\"OBJECTID\",\"Population_Normalized_Mass_Lo_1\",\"Population_Normalized_Mass_Load\",\"Sample_Date\",\"Site\"]"
   ]
  },
  {
   "cell_type": "code",
   "execution_count": 82,
   "metadata": {},
   "outputs": [],
   "source": [
    "from datetime import datetime\n",
    "import math \n",
    "\n",
    "times = []\n",
    "for t in tp04_data[\"Sample_Date\"]:\n",
    "    t1 = str(t)\n",
    "    t2 = t1[0:10]\n",
    "    t2 = int(t2)\n",
    "    time = datetime.fromtimestamp(t2)\n",
    "    times.append(time)\n",
    "tp04_data[\"Sample_Date\"] = times"
   ]
  },
  {
   "cell_type": "code",
   "execution_count": 83,
   "metadata": {},
   "outputs": [],
   "source": [
    "tp04_data.to_csv(r'tp04waterdata.csv')\n"
   ]
  },
  {
   "cell_type": "markdown",
   "metadata": {},
   "source": [
    "**Area 2**"
   ]
  },
  {
   "cell_type": "code",
   "execution_count": 84,
   "metadata": {},
   "outputs": [
    {
     "name": "stdout",
     "output_type": "stream",
     "text": [
      "<Response [200]>\n"
     ]
    },
    {
     "data": {
      "text/plain": [
       "dict_keys(['objectIdFieldName', 'uniqueIdField', 'globalIdFieldName', 'fields', 'features'])"
      ]
     },
     "execution_count": 84,
     "metadata": {},
     "output_type": "execute_result"
    }
   ],
   "source": [
    "url = 'https://services.arcgis.com/lQySeXwbBg53XWDi/arcgis/rest/services/Wastewater_Study_Areas/FeatureServer/1/query?f=json&outFields=*&returnGeometry=false&where=Site%3D%27TP02%27'\n",
    "resp = requests.get(url)\n",
    "print(resp)\n",
    "\n",
    "data_raw = resp.json()\n",
    "data_raw.keys()"
   ]
  },
  {
   "cell_type": "code",
   "execution_count": 85,
   "metadata": {},
   "outputs": [],
   "source": [
    "data_raw['features']\n",
    "tp02_data = pd.io.json.json_normalize(data_raw['features'])\n",
    "tp02_data.columns = [\"Chemical\",\"Concentration_ng_L_Error\",\"Concentration_ng_L_Value\",\"Day\",\"Mass_Load_g_d_Error\",\"Mass_Load_g_d_Value\",\"Month\",\"OBJECTID\",\"Population_Normalized_Mass_Lo_1\",\"Population_Normalized_Mass_Load\",\"Sample_Date\",\"Site\"]\n",
    "\n"
   ]
  },
  {
   "cell_type": "code",
   "execution_count": 86,
   "metadata": {},
   "outputs": [
    {
     "data": {
      "text/html": [
       "<div>\n",
       "<style scoped>\n",
       "    .dataframe tbody tr th:only-of-type {\n",
       "        vertical-align: middle;\n",
       "    }\n",
       "\n",
       "    .dataframe tbody tr th {\n",
       "        vertical-align: top;\n",
       "    }\n",
       "\n",
       "    .dataframe thead th {\n",
       "        text-align: right;\n",
       "    }\n",
       "</style>\n",
       "<table border=\"1\" class=\"dataframe\">\n",
       "  <thead>\n",
       "    <tr style=\"text-align: right;\">\n",
       "      <th></th>\n",
       "      <th>Chemical</th>\n",
       "      <th>Concentration_ng_L_Error</th>\n",
       "      <th>Concentration_ng_L_Value</th>\n",
       "      <th>Day</th>\n",
       "      <th>Mass_Load_g_d_Error</th>\n",
       "      <th>Mass_Load_g_d_Value</th>\n",
       "      <th>Month</th>\n",
       "      <th>OBJECTID</th>\n",
       "      <th>Population_Normalized_Mass_Lo_1</th>\n",
       "      <th>Population_Normalized_Mass_Load</th>\n",
       "      <th>Sample_Date</th>\n",
       "      <th>Site</th>\n",
       "    </tr>\n",
       "  </thead>\n",
       "  <tbody>\n",
       "    <tr>\n",
       "      <th>0</th>\n",
       "      <td>Oxycodone</td>\n",
       "      <td>4.26</td>\n",
       "      <td>101.37</td>\n",
       "      <td>(1) Mon</td>\n",
       "      <td>0.06</td>\n",
       "      <td>1.51</td>\n",
       "      <td>(05) May</td>\n",
       "      <td>1</td>\n",
       "      <td>0</td>\n",
       "      <td>24.77</td>\n",
       "      <td>2018-05-14 03:00:00</td>\n",
       "      <td>TP02</td>\n",
       "    </tr>\n",
       "    <tr>\n",
       "      <th>1</th>\n",
       "      <td>Oxycodone</td>\n",
       "      <td>2.33</td>\n",
       "      <td>106.94</td>\n",
       "      <td>(2) Tue</td>\n",
       "      <td>0.04</td>\n",
       "      <td>1.68</td>\n",
       "      <td>(05) May</td>\n",
       "      <td>2</td>\n",
       "      <td>0</td>\n",
       "      <td>27.54</td>\n",
       "      <td>2018-05-15 03:00:00</td>\n",
       "      <td>TP02</td>\n",
       "    </tr>\n",
       "    <tr>\n",
       "      <th>2</th>\n",
       "      <td>Oxycodone</td>\n",
       "      <td>1.81</td>\n",
       "      <td>102.03</td>\n",
       "      <td>(3) Wed</td>\n",
       "      <td>0.03</td>\n",
       "      <td>1.60</td>\n",
       "      <td>(05) May</td>\n",
       "      <td>3</td>\n",
       "      <td>0</td>\n",
       "      <td>26.22</td>\n",
       "      <td>2018-05-16 03:00:00</td>\n",
       "      <td>TP02</td>\n",
       "    </tr>\n",
       "    <tr>\n",
       "      <th>3</th>\n",
       "      <td>Oxycodone</td>\n",
       "      <td>5.34</td>\n",
       "      <td>115.53</td>\n",
       "      <td>(4) Thu</td>\n",
       "      <td>0.08</td>\n",
       "      <td>1.78</td>\n",
       "      <td>(05) May</td>\n",
       "      <td>4</td>\n",
       "      <td>0</td>\n",
       "      <td>29.27</td>\n",
       "      <td>2018-05-17 03:00:00</td>\n",
       "      <td>TP02</td>\n",
       "    </tr>\n",
       "    <tr>\n",
       "      <th>4</th>\n",
       "      <td>Oxycodone</td>\n",
       "      <td>4.22</td>\n",
       "      <td>103.88</td>\n",
       "      <td>(5) Fri</td>\n",
       "      <td>0.06</td>\n",
       "      <td>1.54</td>\n",
       "      <td>(05) May</td>\n",
       "      <td>5</td>\n",
       "      <td>0</td>\n",
       "      <td>25.28</td>\n",
       "      <td>2018-05-18 03:00:00</td>\n",
       "      <td>TP02</td>\n",
       "    </tr>\n",
       "  </tbody>\n",
       "</table>\n",
       "</div>"
      ],
      "text/plain": [
       "    Chemical  Concentration_ng_L_Error  Concentration_ng_L_Value      Day  \\\n",
       "0  Oxycodone                      4.26                    101.37  (1) Mon   \n",
       "1  Oxycodone                      2.33                    106.94  (2) Tue   \n",
       "2  Oxycodone                      1.81                    102.03  (3) Wed   \n",
       "3  Oxycodone                      5.34                    115.53  (4) Thu   \n",
       "4  Oxycodone                      4.22                    103.88  (5) Fri   \n",
       "\n",
       "   Mass_Load_g_d_Error  Mass_Load_g_d_Value     Month  OBJECTID  \\\n",
       "0                 0.06                 1.51  (05) May         1   \n",
       "1                 0.04                 1.68  (05) May         2   \n",
       "2                 0.03                 1.60  (05) May         3   \n",
       "3                 0.08                 1.78  (05) May         4   \n",
       "4                 0.06                 1.54  (05) May         5   \n",
       "\n",
       "   Population_Normalized_Mass_Lo_1  Population_Normalized_Mass_Load  \\\n",
       "0                                0                            24.77   \n",
       "1                                0                            27.54   \n",
       "2                                0                            26.22   \n",
       "3                                0                            29.27   \n",
       "4                                0                            25.28   \n",
       "\n",
       "          Sample_Date  Site  \n",
       "0 2018-05-14 03:00:00  TP02  \n",
       "1 2018-05-15 03:00:00  TP02  \n",
       "2 2018-05-16 03:00:00  TP02  \n",
       "3 2018-05-17 03:00:00  TP02  \n",
       "4 2018-05-18 03:00:00  TP02  "
      ]
     },
     "execution_count": 86,
     "metadata": {},
     "output_type": "execute_result"
    }
   ],
   "source": [
    "times = []\n",
    "for t in tp02_data[\"Sample_Date\"]:\n",
    "    t1 = str(t)\n",
    "    t2 = t1[0:10]\n",
    "    t2 = int(t2)\n",
    "    time = datetime.fromtimestamp(t2)\n",
    "    times.append(time)\n",
    "tp02_data[\"Sample_Date\"] = times\n",
    "tp02_data.head()"
   ]
  },
  {
   "cell_type": "code",
   "execution_count": 87,
   "metadata": {},
   "outputs": [],
   "source": [
    "tp02_data.to_csv(r'tp02waterdata.csv')"
   ]
  },
  {
   "cell_type": "markdown",
   "metadata": {},
   "source": [
    "**Area 5**"
   ]
  },
  {
   "cell_type": "code",
   "execution_count": 88,
   "metadata": {},
   "outputs": [
    {
     "name": "stdout",
     "output_type": "stream",
     "text": [
      "<Response [200]>\n"
     ]
    },
    {
     "data": {
      "text/plain": [
       "dict_keys(['objectIdFieldName', 'uniqueIdField', 'globalIdFieldName', 'fields', 'features'])"
      ]
     },
     "execution_count": 88,
     "metadata": {},
     "output_type": "execute_result"
    }
   ],
   "source": [
    "url = 'https://services.arcgis.com/lQySeXwbBg53XWDi/arcgis/rest/services/Wastewater_Study_Areas/FeatureServer/1/query?f=json&outFields=*&returnGeometry=false&where=Site%3D%27TP05%27'\n",
    "resp = requests.get(url)\n",
    "print(resp)\n",
    "\n",
    "data_raw = resp.json()\n",
    "data_raw.keys()"
   ]
  },
  {
   "cell_type": "code",
   "execution_count": 89,
   "metadata": {},
   "outputs": [],
   "source": [
    "data_raw['features']\n",
    "tp05_data = pd.io.json.json_normalize(data_raw['features'])\n",
    "tp05_data.columns = [\"Chemical\",\"Concentration_ng_L_Error\",\"Concentration_ng_L_Value\",\"Day\",\"Mass_Load_g_d_Error\",\"Mass_Load_g_d_Value\",\"Month\",\"OBJECTID\",\"Population_Normalized_Mass_Lo_1\",\"Population_Normalized_Mass_Load\",\"Sample_Date\",\"Site\"]\n",
    "\n"
   ]
  },
  {
   "cell_type": "code",
   "execution_count": 76,
   "metadata": {},
   "outputs": [
    {
     "data": {
      "text/html": [
       "<div>\n",
       "<style scoped>\n",
       "    .dataframe tbody tr th:only-of-type {\n",
       "        vertical-align: middle;\n",
       "    }\n",
       "\n",
       "    .dataframe tbody tr th {\n",
       "        vertical-align: top;\n",
       "    }\n",
       "\n",
       "    .dataframe thead th {\n",
       "        text-align: right;\n",
       "    }\n",
       "</style>\n",
       "<table border=\"1\" class=\"dataframe\">\n",
       "  <thead>\n",
       "    <tr style=\"text-align: right;\">\n",
       "      <th></th>\n",
       "      <th>Chemical</th>\n",
       "      <th>Concentration_ng_L_Error</th>\n",
       "      <th>Concentration_ng_L_Value</th>\n",
       "      <th>Day</th>\n",
       "      <th>Mass_Load_g_d_Error</th>\n",
       "      <th>Mass_Load_g_d_Value</th>\n",
       "      <th>Month</th>\n",
       "      <th>OBJECTID</th>\n",
       "      <th>Population_Normalized_Mass_Lo_1</th>\n",
       "      <th>Population_Normalized_Mass_Load</th>\n",
       "      <th>Sample_Date</th>\n",
       "      <th>Site</th>\n",
       "    </tr>\n",
       "  </thead>\n",
       "  <tbody>\n",
       "    <tr>\n",
       "      <th>0</th>\n",
       "      <td>Oxycodone</td>\n",
       "      <td>5.33</td>\n",
       "      <td>66.98</td>\n",
       "      <td>(1) Mon</td>\n",
       "      <td>0.00</td>\n",
       "      <td>0.05</td>\n",
       "      <td>(05) May</td>\n",
       "      <td>687</td>\n",
       "      <td>0</td>\n",
       "      <td>16.0</td>\n",
       "      <td>2018-05-14 03:00:00</td>\n",
       "      <td>TP05</td>\n",
       "    </tr>\n",
       "    <tr>\n",
       "      <th>1</th>\n",
       "      <td>Oxycodone</td>\n",
       "      <td>1.37</td>\n",
       "      <td>59.28</td>\n",
       "      <td>(2) Tue</td>\n",
       "      <td>0.00</td>\n",
       "      <td>0.04</td>\n",
       "      <td>(05) May</td>\n",
       "      <td>688</td>\n",
       "      <td>0</td>\n",
       "      <td>14.0</td>\n",
       "      <td>2018-05-15 03:00:00</td>\n",
       "      <td>TP05</td>\n",
       "    </tr>\n",
       "    <tr>\n",
       "      <th>2</th>\n",
       "      <td>Oxycodone</td>\n",
       "      <td>12.73</td>\n",
       "      <td>109.41</td>\n",
       "      <td>(3) Wed</td>\n",
       "      <td>0.01</td>\n",
       "      <td>0.07</td>\n",
       "      <td>(05) May</td>\n",
       "      <td>689</td>\n",
       "      <td>0</td>\n",
       "      <td>26.0</td>\n",
       "      <td>2018-05-16 03:00:00</td>\n",
       "      <td>TP05</td>\n",
       "    </tr>\n",
       "    <tr>\n",
       "      <th>3</th>\n",
       "      <td>Oxycodone</td>\n",
       "      <td>0.10</td>\n",
       "      <td>28.10</td>\n",
       "      <td>(4) Thu</td>\n",
       "      <td>0.00</td>\n",
       "      <td>0.02</td>\n",
       "      <td>(05) May</td>\n",
       "      <td>690</td>\n",
       "      <td>0</td>\n",
       "      <td>6.0</td>\n",
       "      <td>2018-05-17 03:00:00</td>\n",
       "      <td>TP05</td>\n",
       "    </tr>\n",
       "    <tr>\n",
       "      <th>4</th>\n",
       "      <td>Oxycodone</td>\n",
       "      <td>5.94</td>\n",
       "      <td>81.24</td>\n",
       "      <td>(5) Fri</td>\n",
       "      <td>0.00</td>\n",
       "      <td>0.05</td>\n",
       "      <td>(05) May</td>\n",
       "      <td>691</td>\n",
       "      <td>0</td>\n",
       "      <td>17.0</td>\n",
       "      <td>2018-05-18 03:00:00</td>\n",
       "      <td>TP05</td>\n",
       "    </tr>\n",
       "  </tbody>\n",
       "</table>\n",
       "</div>"
      ],
      "text/plain": [
       "    Chemical  Concentration_ng_L_Error  Concentration_ng_L_Value      Day  \\\n",
       "0  Oxycodone                      5.33                     66.98  (1) Mon   \n",
       "1  Oxycodone                      1.37                     59.28  (2) Tue   \n",
       "2  Oxycodone                     12.73                    109.41  (3) Wed   \n",
       "3  Oxycodone                      0.10                     28.10  (4) Thu   \n",
       "4  Oxycodone                      5.94                     81.24  (5) Fri   \n",
       "\n",
       "   Mass_Load_g_d_Error  Mass_Load_g_d_Value     Month  OBJECTID  \\\n",
       "0                 0.00                 0.05  (05) May       687   \n",
       "1                 0.00                 0.04  (05) May       688   \n",
       "2                 0.01                 0.07  (05) May       689   \n",
       "3                 0.00                 0.02  (05) May       690   \n",
       "4                 0.00                 0.05  (05) May       691   \n",
       "\n",
       "   Population_Normalized_Mass_Lo_1  Population_Normalized_Mass_Load  \\\n",
       "0                                0                             16.0   \n",
       "1                                0                             14.0   \n",
       "2                                0                             26.0   \n",
       "3                                0                              6.0   \n",
       "4                                0                             17.0   \n",
       "\n",
       "          Sample_Date  Site  \n",
       "0 2018-05-14 03:00:00  TP05  \n",
       "1 2018-05-15 03:00:00  TP05  \n",
       "2 2018-05-16 03:00:00  TP05  \n",
       "3 2018-05-17 03:00:00  TP05  \n",
       "4 2018-05-18 03:00:00  TP05  "
      ]
     },
     "execution_count": 76,
     "metadata": {},
     "output_type": "execute_result"
    }
   ],
   "source": [
    "times = []\n",
    "for t in tp05_data[\"Sample_Date\"]:\n",
    "    t1 = str(t)\n",
    "    t2 = t1[0:10]\n",
    "    t2 = int(t2)\n",
    "    time = datetime.fromtimestamp(t2)\n",
    "    times.append(time)\n",
    "tp05_data[\"Sample_Date\"] = times\n",
    "tp05_data.head()"
   ]
  },
  {
   "cell_type": "code",
   "execution_count": 90,
   "metadata": {},
   "outputs": [],
   "source": [
    "tp05_data.to_csv(r'tp05waterdata.csv')"
   ]
  },
  {
   "cell_type": "code",
   "execution_count": null,
   "metadata": {},
   "outputs": [],
   "source": []
  }
 ],
 "metadata": {
  "kernelspec": {
   "display_name": "Python 3",
   "language": "python",
   "name": "python3"
  },
  "language_info": {
   "codemirror_mode": {
    "name": "ipython",
    "version": 3
   },
   "file_extension": ".py",
   "mimetype": "text/x-python",
   "name": "python",
   "nbconvert_exporter": "python",
   "pygments_lexer": "ipython3",
   "version": "3.6.8"
  }
 },
 "nbformat": 4,
 "nbformat_minor": 2
}
